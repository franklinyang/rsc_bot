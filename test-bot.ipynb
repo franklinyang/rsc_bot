{
 "cells": [
  {
   "cell_type": "code",
   "execution_count": 30,
   "id": "62154dc3",
   "metadata": {},
   "outputs": [],
   "source": [
    "import pyautogui\n",
    "import numpy as np\n",
    "import pywinctl as pwc\n",
    "from PIL import Image\n",
    "from mss import mss, tools\n",
    "\n",
    "import time"
   ]
  },
  {
   "cell_type": "code",
   "execution_count": 25,
   "id": "f05ec726",
   "metadata": {},
   "outputs": [],
   "source": [
    "# Get the application window\n",
    "window_name = 'rscplus (RSC Preservation; friqi)'\n",
    "window = pwc.getWindowsWithTitle(window_name)[0]\n",
    "\n",
    "# Focus on the window\n",
    "window.activate()\n",
    "\n",
    "# Define the region of the window (x, y, width, height)\n",
    "SEARCH_REGION = (window.left, window.top, window.width, window.height)\n",
    "\n",
    "# Take a screenshot of the window\n",
    "sct = mss()\n"
   ]
  },
  {
   "cell_type": "code",
   "execution_count": 16,
   "id": "7e8622f4",
   "metadata": {},
   "outputs": [
    {
     "data": {
      "text/plain": [
       "(1440, 2170, 4)"
      ]
     },
     "execution_count": 16,
     "metadata": {},
     "output_type": "execute_result"
    }
   ],
   "source": [
    "image.shape"
   ]
  },
  {
   "cell_type": "code",
   "execution_count": 17,
   "id": "f229b502",
   "metadata": {},
   "outputs": [
    {
     "data": {
      "text/plain": [
       "1085"
      ]
     },
     "execution_count": 17,
     "metadata": {},
     "output_type": "execute_result"
    }
   ],
   "source": [
    "window.width"
   ]
  },
  {
   "cell_type": "code",
   "execution_count": 18,
   "id": "1089155a",
   "metadata": {},
   "outputs": [
    {
     "data": {
      "text/plain": [
       "720"
      ]
     },
     "execution_count": 18,
     "metadata": {},
     "output_type": "execute_result"
    }
   ],
   "source": [
    "window.height"
   ]
  },
  {
   "cell_type": "code",
   "execution_count": 38,
   "id": "0c9ad98d",
   "metadata": {},
   "outputs": [],
   "source": [
    "def scale(window_width, window_height, screenshot_width,\n",
    "          screenshot_height, x, y):\n",
    "    print(window_width, window_height, screenshot_width,\n",
    "          screenshot_height, x, y)\n",
    "#     raise\n",
    "    return (x * window_width / screenshot_width,\n",
    "            y * window_height / screenshot_height)"
   ]
  },
  {
   "cell_type": "code",
   "execution_count": 23,
   "id": "a47fe2cd",
   "metadata": {},
   "outputs": [],
   "source": [
    "def get_screenshot():\n",
    "    screenshot = sct.grab(MONITOR)\n",
    "\n",
    "    # for debugging - to print out output\n",
    "    # output = \"sct-{top}x{left}_{width}x{height}.png\".format(**MONITOR)\n",
    "    # tools.to_png(screenshot.rgb, screenshot.size, output=\"/tmp/{}\".format(output))\n",
    "    return screenshot"
   ]
  },
  {
   "cell_type": "code",
   "execution_count": 37,
   "id": "5b415234",
   "metadata": {},
   "outputs": [],
   "source": [
    "def cut_tree():\n",
    "    window.activate()\n",
    "    # Define the color you want to detect (in RGB format)\n",
    "    wood_of_tree = (145, 80, 39)\n",
    "    screenshot = get_screenshot()\n",
    "\n",
    "    # Convert the screenshot to a numpy array\n",
    "    image = np.array(screenshot)\n",
    "\n",
    "    BROWN_COLOR_RANGE = {\n",
    "        # \"R\": (150, 200),\n",
    "        # \"G\": (100, 150),\n",
    "        # \"B\": (30, 50)\n",
    "        \"R\": (150, 200),\n",
    "        \"G\": (100, 150),\n",
    "        \"B\": (50, 100)\n",
    "    }\n",
    "\n",
    "    COLOR_RANGE = BROWN_COLOR_RANGE\n",
    "    mask = (\n",
    "        (image[:,:,0] >= COLOR_RANGE[\"R\"][0]) & (image[:,:,0] <= COLOR_RANGE[\"R\"][1]) &\n",
    "        (image[:,:,1] >= COLOR_RANGE[\"G\"][0]) & (image[:,:,1] <= COLOR_RANGE[\"G\"][1]) &\n",
    "        (image[:,:,2] >= COLOR_RANGE[\"B\"][0]) & (image[:,:,2] <= COLOR_RANGE[\"B\"][1])\n",
    "    )\n",
    "\n",
    "\n",
    "    # Search for the target color\n",
    "    indices = np.where(mask)\n",
    "\n",
    "    # If the color is found, move the mouse to the first occurrence and click\n",
    "    if indices[0].size > 0:\n",
    "        y, x = indices[0][0], indices[1][0]\n",
    "        window_width, window_height = SEARCH_REGION[2], SEARCH_REGION[3]\n",
    "        screenshot_width, screenshot_height = image.shape[1], image.shape[0]\n",
    "\n",
    "        x, y = scale(window_width, window_height, screenshot_width, screenshot_height, x, y)\n",
    "\n",
    "        screen_x = x + SEARCH_REGION[0]\n",
    "        screen_y = y + SEARCH_REGION[1]\n",
    "        print('screen x / y', screen_x, screen_y)\n",
    "        pyautogui.moveTo(screen_x, screen_y)\n",
    "        pyautogui.click()\n",
    "        print(f\"Color found and clicked at ({screen_x}, {screen_y})\")\n",
    "    else:\n",
    "        print(\"Color not found\")\n",
    "    return"
   ]
  },
  {
   "cell_type": "code",
   "execution_count": 39,
   "id": "16297c10",
   "metadata": {},
   "outputs": [
    {
     "name": "stdout",
     "output_type": "stream",
     "text": [
      "1085 720 2170 1440 1176 1044\n",
      "screen x / y 631.0 591.0\n",
      "Color found and clicked at (631.0, 591.0)\n"
     ]
    }
   ],
   "source": [
    "cut_tree()"
   ]
  },
  {
   "cell_type": "code",
   "execution_count": 36,
   "id": "77ebf56a",
   "metadata": {},
   "outputs": [
    {
     "name": "stdout",
     "output_type": "stream",
     "text": [
      "1085 720 1440 2170 1172 1048\n"
     ]
    },
    {
     "ename": "RuntimeError",
     "evalue": "No active exception to reraise",
     "output_type": "error",
     "traceback": [
      "\u001b[0;31m---------------------------------------------------------------------------\u001b[0m",
      "\u001b[0;31mRuntimeError\u001b[0m                              Traceback (most recent call last)",
      "Cell \u001b[0;32mIn[36], line 3\u001b[0m\n\u001b[1;32m      1\u001b[0m count \u001b[38;5;241m=\u001b[39m \u001b[38;5;241m0\u001b[39m\n\u001b[1;32m      2\u001b[0m \u001b[38;5;28;01mwhile\u001b[39;00m count \u001b[38;5;241m<\u001b[39m \u001b[38;5;241m60\u001b[39m:\n\u001b[0;32m----> 3\u001b[0m     \u001b[43mcut_tree\u001b[49m\u001b[43m(\u001b[49m\u001b[43m)\u001b[49m\n\u001b[1;32m      4\u001b[0m     time\u001b[38;5;241m.\u001b[39msleep(\u001b[38;5;241m3\u001b[39m)\n\u001b[1;32m      5\u001b[0m     count \u001b[38;5;241m+\u001b[39m\u001b[38;5;241m=\u001b[39m \u001b[38;5;241m1\u001b[39m\n",
      "Cell \u001b[0;32mIn[31], line 36\u001b[0m, in \u001b[0;36mcut_tree\u001b[0;34m()\u001b[0m\n\u001b[1;32m     33\u001b[0m window_width, window_height \u001b[38;5;241m=\u001b[39m SEARCH_REGION[\u001b[38;5;241m2\u001b[39m], SEARCH_REGION[\u001b[38;5;241m3\u001b[39m]\n\u001b[1;32m     34\u001b[0m screenshot_width, screenshot_height \u001b[38;5;241m=\u001b[39m image\u001b[38;5;241m.\u001b[39mshape[\u001b[38;5;241m0\u001b[39m], image\u001b[38;5;241m.\u001b[39mshape[\u001b[38;5;241m1\u001b[39m]\n\u001b[0;32m---> 36\u001b[0m x, y \u001b[38;5;241m=\u001b[39m \u001b[43mscale\u001b[49m\u001b[43m(\u001b[49m\u001b[43mwindow_width\u001b[49m\u001b[43m,\u001b[49m\u001b[43m \u001b[49m\u001b[43mwindow_height\u001b[49m\u001b[43m,\u001b[49m\u001b[43m \u001b[49m\u001b[43mscreenshot_width\u001b[49m\u001b[43m,\u001b[49m\u001b[43m \u001b[49m\u001b[43mscreenshot_height\u001b[49m\u001b[43m,\u001b[49m\u001b[43m \u001b[49m\u001b[43mx\u001b[49m\u001b[43m,\u001b[49m\u001b[43m \u001b[49m\u001b[43my\u001b[49m\u001b[43m)\u001b[49m\n\u001b[1;32m     38\u001b[0m screen_x \u001b[38;5;241m=\u001b[39m x \u001b[38;5;241m+\u001b[39m SEARCH_REGION[\u001b[38;5;241m0\u001b[39m]\n\u001b[1;32m     39\u001b[0m screen_y \u001b[38;5;241m=\u001b[39m y \u001b[38;5;241m+\u001b[39m SEARCH_REGION[\u001b[38;5;241m1\u001b[39m]\n",
      "Cell \u001b[0;32mIn[35], line 5\u001b[0m, in \u001b[0;36mscale\u001b[0;34m(window_width, window_height, screenshot_width, screenshot_height, x, y)\u001b[0m\n\u001b[1;32m      1\u001b[0m \u001b[38;5;28;01mdef\u001b[39;00m \u001b[38;5;21mscale\u001b[39m(window_width, window_height, screenshot_width,\n\u001b[1;32m      2\u001b[0m           screenshot_height, x, y):\n\u001b[1;32m      3\u001b[0m     \u001b[38;5;28mprint\u001b[39m(window_width, window_height, screenshot_width,\n\u001b[1;32m      4\u001b[0m           screenshot_height, x, y)\n\u001b[0;32m----> 5\u001b[0m     \u001b[38;5;28;01mraise\u001b[39;00m\n\u001b[1;32m      6\u001b[0m     \u001b[38;5;28;01mreturn\u001b[39;00m (x \u001b[38;5;241m*\u001b[39m window_width \u001b[38;5;241m/\u001b[39m screenshot_width,\n\u001b[1;32m      7\u001b[0m             y \u001b[38;5;241m*\u001b[39m window_height \u001b[38;5;241m/\u001b[39m screenshot_height)\n",
      "\u001b[0;31mRuntimeError\u001b[0m: No active exception to reraise"
     ]
    }
   ],
   "source": [
    "count = 0\n",
    "while count < 60:\n",
    "    cut_tree()\n",
    "    time.sleep(3)\n",
    "    count += 1"
   ]
  },
  {
   "cell_type": "code",
   "execution_count": 40,
   "id": "81042499",
   "metadata": {},
   "outputs": [],
   "source": [
    "### TEST BELOW ###"
   ]
  },
  {
   "cell_type": "code",
   "execution_count": 57,
   "id": "48670620",
   "metadata": {},
   "outputs": [
    {
     "name": "stdout",
     "output_type": "stream",
     "text": [
      "1085 720 2170 1440 1948 1040\n",
      "screen x / y 1017.0 589.0\n"
     ]
    }
   ],
   "source": [
    "    window.activate()\n",
    "    # Define the color you want to detect (in RGB format)\n",
    "    wood_of_tree = (145, 80, 39)\n",
    "    screenshot = get_screenshot()\n",
    "\n",
    "    # Convert the screenshot to a numpy array\n",
    "    image = np.array(screenshot)\n",
    "\n",
    "    BROWN_COLOR_RANGE = {\n",
    "        # \"R\": (150, 200),\n",
    "        # \"G\": (100, 150),\n",
    "        # \"B\": (30, 50)\n",
    "        \"R\": (150, 200),\n",
    "        \"G\": (100, 150),\n",
    "        \"B\": (50, 100)\n",
    "    }\n",
    "\n",
    "    COLOR_RANGE = BROWN_COLOR_RANGE\n",
    "    mask = (\n",
    "        (image[:,:,0] >= COLOR_RANGE[\"R\"][0]) & (image[:,:,0] <= COLOR_RANGE[\"R\"][1]) &\n",
    "        (image[:,:,1] >= COLOR_RANGE[\"G\"][0]) & (image[:,:,1] <= COLOR_RANGE[\"G\"][1]) &\n",
    "        (image[:,:,2] >= COLOR_RANGE[\"B\"][0]) & (image[:,:,2] <= COLOR_RANGE[\"B\"][1])\n",
    "    )\n",
    "\n",
    "\n",
    "    # Search for the target color\n",
    "    indices = np.where(mask)\n",
    "\n",
    "    # If the color is found, move the mouse to the first occurrence and click\n",
    "    if indices[0].size > 0:\n",
    "        y, x = indices[0][0], indices[1][0]\n",
    "        window_width, window_height = SEARCH_REGION[2], SEARCH_REGION[3]\n",
    "        # screenshot_width, screenshot_height = image.shape[0], image.shape[1]\n",
    "        screenshot_width, screenshot_height = image.shape[1], image.shape[0]\n",
    "\n",
    "        x, y = scale(window_width, window_height, screenshot_width, screenshot_height, x, y)\n",
    "\n",
    "        screen_x = x + SEARCH_REGION[0]\n",
    "        screen_y = y + SEARCH_REGION[1]\n",
    "        print('screen x / y', screen_x, screen_y)"
   ]
  },
  {
   "cell_type": "code",
   "execution_count": 58,
   "id": "7c2ca1dc",
   "metadata": {},
   "outputs": [
    {
     "data": {
      "text/plain": [
       "(array([1040, 1040, 1040, ..., 1347, 1347, 1347]),\n",
       " array([1948, 1949, 1950, ..., 1473, 1474, 1475]))"
      ]
     },
     "execution_count": 58,
     "metadata": {},
     "output_type": "execute_result"
    }
   ],
   "source": [
    "indices"
   ]
  },
  {
   "cell_type": "code",
   "execution_count": 60,
   "id": "6ac49ea4",
   "metadata": {},
   "outputs": [
    {
     "data": {
      "text/plain": [
       "array([189, 104,  56, 255], dtype=uint8)"
      ]
     },
     "execution_count": 60,
     "metadata": {},
     "output_type": "execute_result"
    }
   ],
   "source": [
    "image[indices[0][0]][indices[1][0]]"
   ]
  },
  {
   "cell_type": "code",
   "execution_count": 49,
   "id": "a6946c5c",
   "metadata": {},
   "outputs": [
    {
     "data": {
      "text/plain": [
       "(1440, 2170, 4)"
      ]
     },
     "execution_count": 49,
     "metadata": {},
     "output_type": "execute_result"
    }
   ],
   "source": [
    "image.shape"
   ]
  },
  {
   "cell_type": "code",
   "execution_count": 50,
   "id": "cab619d6",
   "metadata": {},
   "outputs": [
    {
     "data": {
      "text/plain": [
       "(1236, 1228)"
      ]
     },
     "execution_count": 50,
     "metadata": {},
     "output_type": "execute_result"
    }
   ],
   "source": [
    "indices[0][0], indices[1][0]"
   ]
  },
  {
   "cell_type": "code",
   "execution_count": null,
   "id": "dc747bf1",
   "metadata": {},
   "outputs": [],
   "source": []
  }
 ],
 "metadata": {
  "kernelspec": {
   "display_name": "Python 3 (ipykernel)",
   "language": "python",
   "name": "python3"
  },
  "language_info": {
   "codemirror_mode": {
    "name": "ipython",
    "version": 3
   },
   "file_extension": ".py",
   "mimetype": "text/x-python",
   "name": "python",
   "nbconvert_exporter": "python",
   "pygments_lexer": "ipython3",
   "version": "3.11.2"
  }
 },
 "nbformat": 4,
 "nbformat_minor": 5
}
